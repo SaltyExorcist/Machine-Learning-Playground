{
 "cells": [
  {
   "cell_type": "code",
   "execution_count": 11,
   "id": "8921261f-ac05-4680-9111-c873adcf1544",
   "metadata": {},
   "outputs": [
    {
     "name": "stdout",
     "output_type": "stream",
     "text": [
      "[0. 0. 0. 0. 0.]\n",
      "[[1. 1. 1.]\n",
      " [1. 1. 1.]]\n",
      "[[9 9 9]\n",
      " [9 9 9]\n",
      " [9 9 9]]\n",
      "[[3 3 3]\n",
      " [3 3 3]]\n"
     ]
    }
   ],
   "source": [
    "import numpy as np\n",
    "a=np.zeros(5)   #initializes the array with all values as zero.parameters=(kernel_size,dtype)\n",
    "print(a)\n",
    "b=np.ones((2,3))   #initializes the array with all values as ones.parameters=(kernel_size,dtype)\n",
    "print(b)\n",
    "c=np.full((3,3),9)  #initializes the array with all values as the specified constant.parameters=(kernel_size,constant value)\n",
    "print(c)\n",
    "f=np.full_like(b,3,dtype='uint8')\n",
    "print(f)"
   ]
  },
  {
   "cell_type": "code",
   "execution_count": 13,
   "id": "3f957a6a-bcf0-4834-9c40-f24c61f091b0",
   "metadata": {},
   "outputs": [
    {
     "name": "stdout",
     "output_type": "stream",
     "text": [
      "[[[0.66208068 0.5779438  0.72264282]\n",
      "  [0.87253526 0.45235244 0.96903694]\n",
      "  [0.0782451  0.01605002 0.3869798 ]]\n",
      "\n",
      " [[0.30134619 0.5855254  0.97865375]\n",
      "  [0.16353191 0.08913825 0.19078973]\n",
      "  [0.91451931 0.75412679 0.31374822]]\n",
      "\n",
      " [[0.16511928 0.24057168 0.29552273]\n",
      "  [0.00799469 0.08194121 0.46593626]\n",
      "  [0.30899348 0.21390221 0.54018888]]]\n",
      "[[0.53874969 0.8081001  0.32199023]\n",
      " [0.1539699  0.51223655 0.34716672]\n",
      " [0.27629632 0.0653216  0.7174355 ]]\n"
     ]
    }
   ],
   "source": [
    "#Random decimal integers\n",
    "d=np.random.rand(3,3,3)   \n",
    "print(d)\n",
    "e=np.random.random_sample(c.shape)\n",
    "print(e)"
   ]
  },
  {
   "cell_type": "code",
   "execution_count": 20,
   "id": "c141d297-f163-4fd6-9d1f-4422aeea6514",
   "metadata": {},
   "outputs": [
    {
     "name": "stdout",
     "output_type": "stream",
     "text": [
      "[[3 5 1]\n",
      " [0 3 8]]\n"
     ]
    }
   ],
   "source": [
    "#Random integer numbers\n",
    "i1=np.random.randint(9,size=(2,3))\n",
    "print(i1)"
   ]
  },
  {
   "cell_type": "code",
   "execution_count": 21,
   "id": "9111a7a0-95b3-4353-b911-63174d21522c",
   "metadata": {},
   "outputs": [
    {
     "name": "stdout",
     "output_type": "stream",
     "text": [
      "[[1. 0. 0. 0.]\n",
      " [0. 1. 0. 0.]\n",
      " [0. 0. 1. 0.]\n",
      " [0. 0. 0. 1.]]\n"
     ]
    }
   ],
   "source": [
    "#identity matrix\n",
    "id=np.identity(4)\n",
    "print(id)"
   ]
  },
  {
   "cell_type": "code",
   "execution_count": 23,
   "id": "81109509-1eab-4d69-8c56-cbf1b07b9b5d",
   "metadata": {},
   "outputs": [
    {
     "name": "stdout",
     "output_type": "stream",
     "text": [
      "[[1 2 3 4]\n",
      " [1 2 3 4]\n",
      " [1 2 3 4]]\n"
     ]
    }
   ],
   "source": [
    "#repeat the array\n",
    "l=np.array([[1,2,3,4]])\n",
    "rp=np.repeat(l,3,axis=0)\n",
    "print(rp)"
   ]
  },
  {
   "cell_type": "code",
   "execution_count": 27,
   "id": "a163ca32-5103-49db-9cce-f25e607741a8",
   "metadata": {},
   "outputs": [
    {
     "name": "stdout",
     "output_type": "stream",
     "text": [
      "[[1. 1. 1. 1. 1.]\n",
      " [1. 0. 0. 0. 1.]\n",
      " [1. 0. 9. 0. 1.]\n",
      " [1. 0. 0. 0. 1.]\n",
      " [1. 1. 1. 1. 1.]]\n"
     ]
    }
   ],
   "source": [
    "op=np.ones((5,5))\n",
    "middle=np.zeros((3,3))\n",
    "middle[1,1]=9\n",
    "op[1:4,1:4]=middle\n",
    "print(op)"
   ]
  },
  {
   "cell_type": "markdown",
   "id": "ee7fc8ce-ea86-4a70-899e-cca350591a49",
   "metadata": {
    "tags": []
   },
   "source": [
    "##### Statistics"
   ]
  },
  {
   "cell_type": "code",
   "execution_count": 34,
   "id": "f6345003-afcb-42d2-9492-c7c55940c84d",
   "metadata": {},
   "outputs": [
    {
     "name": "stdout",
     "output_type": "stream",
     "text": [
      "[1 7]\n",
      "[ 7  8  9 10 11 12]\n",
      "[21 57]\n"
     ]
    }
   ],
   "source": [
    "stat=np.array([[1,2,3,4,5,6],[7,8,9,10,11,12]])\n",
    "print(np.min(stat,axis=1)) \n",
    "print(np.max(stat,axis=0)) \n",
    "print(np.sum(stat,axis=1)) "
   ]
  },
  {
   "cell_type": "markdown",
   "id": "f47069fe-16c3-4cc7-b472-e706c8ef41cb",
   "metadata": {},
   "source": [
    "##### Reorganising Arrays"
   ]
  },
  {
   "cell_type": "code",
   "execution_count": 39,
   "id": "bad8b650-2e00-4ca0-8753-feeabfaabc2d",
   "metadata": {},
   "outputs": [
    {
     "name": "stdout",
     "output_type": "stream",
     "text": [
      "[[ 1  2  3  4  5  6]\n",
      " [ 7  8  9 10 11 12]]\n",
      "2\n",
      "[[ 1  2]\n",
      " [ 3  4]\n",
      " [ 5  6]\n",
      " [ 7  8]\n",
      " [ 9 10]\n",
      " [11 12]]\n"
     ]
    }
   ],
   "source": [
    "inp=np.array([[1,2,3,4,5,6],[7,8,9,10,11,12]])\n",
    "print(inp)\n",
    "out=inp.reshape(6,2)\n",
    "print(out)"
   ]
  },
  {
   "cell_type": "code",
   "execution_count": 44,
   "id": "88d0a166-8080-40f6-956c-8f416cec21a3",
   "metadata": {},
   "outputs": [
    {
     "data": {
      "text/plain": [
       "array([ 1,  2,  3,  4,  5,  6,  7,  8,  9, 10, 11, 12])"
      ]
     },
     "execution_count": 44,
     "metadata": {},
     "output_type": "execute_result"
    }
   ],
   "source": [
    "n1=np.array([1,2,3,4,5,6])\n",
    "n2=np.array([7,8,9,10,11,12])\n",
    "np.hstack((n1,n2))"
   ]
  },
  {
   "cell_type": "markdown",
   "id": "0b2339a1-b4ca-47ae-892c-669389fe09ed",
   "metadata": {},
   "source": [
    "##### Input from text file"
   ]
  },
  {
   "cell_type": "code",
   "execution_count": 55,
   "id": "7ca82ff7-d2ff-4c6b-908a-14e90817425a",
   "metadata": {},
   "outputs": [
    {
     "name": "stdout",
     "output_type": "stream",
     "text": [
      "[[ 1.  2.  3.  4.]\n",
      " [ 5.  6.  7.  8.]\n",
      " [ 9. 10. 11. 12.]]\n"
     ]
    }
   ],
   "source": [
    "filetext=np.genfromtxt('text1.txt',delimiter=',')\n",
    "print(filetext)"
   ]
  },
  {
   "cell_type": "markdown",
   "id": "c5aac71d-9036-44cb-be52-8c469dd575cb",
   "metadata": {
    "tags": []
   },
   "source": [
    "##### Boolean Masking and Advanced indexing"
   ]
  },
  {
   "cell_type": "code",
   "execution_count": 56,
   "id": "6bb72830-7bf4-4b7f-af2c-bd78194b85e8",
   "metadata": {},
   "outputs": [
    {
     "name": "stdout",
     "output_type": "stream",
     "text": [
      "[[False False False False]\n",
      " [False  True  True  True]\n",
      " [ True  True  True  True]]\n",
      "[ 6.  7.  8.  9. 10. 11. 12.]\n"
     ]
    }
   ],
   "source": [
    "print(filetext>5)\n",
    "print(filetext[filetext>5])"
   ]
  },
  {
   "cell_type": "code",
   "execution_count": 69,
   "id": "97123de8-4358-4135-9320-e5cbce4eff12",
   "metadata": {},
   "outputs": [
    {
     "name": "stdout",
     "output_type": "stream",
     "text": [
      "[10. 10.]\n"
     ]
    }
   ],
   "source": [
    "#Indexing with a list\n",
    "print(input[[2,2],[1,1]])"
   ]
  },
  {
   "cell_type": "code",
   "execution_count": null,
   "id": "30f4eaf4-516c-4334-859e-d6f3cc16bd7f",
   "metadata": {},
   "outputs": [],
   "source": []
  }
 ],
 "metadata": {
  "kernelspec": {
   "display_name": "Python 3 (ipykernel)",
   "language": "python",
   "name": "python3"
  },
  "language_info": {
   "codemirror_mode": {
    "name": "ipython",
    "version": 3
   },
   "file_extension": ".py",
   "mimetype": "text/x-python",
   "name": "python",
   "nbconvert_exporter": "python",
   "pygments_lexer": "ipython3",
   "version": "3.9.6"
  }
 },
 "nbformat": 4,
 "nbformat_minor": 5
}
