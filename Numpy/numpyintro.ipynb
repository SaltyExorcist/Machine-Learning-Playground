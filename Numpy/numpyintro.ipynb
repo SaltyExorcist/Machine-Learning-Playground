{
 "cells": [
  {
   "cell_type": "code",
   "execution_count": 2,
   "id": "7575dfec-9359-4adf-a38f-ca2a9e38a1d3",
   "metadata": {},
   "outputs": [
    {
     "name": "stdout",
     "output_type": "stream",
     "text": [
      "[1 2 3]\n",
      "[1 2 3 4]\n",
      "[3 7]\n",
      "[5 7]\n",
      "[[3 4]\n",
      " [7 8]]\n",
      "[[1 2]\n",
      " [5 6]]\n",
      "[3 4]\n"
     ]
    }
   ],
   "source": [
    "import numpy as np\n",
    "a=np.array([1,2,3])\n",
    "print(a)\n",
    "b=np.array([[1,2,3,4],[5,6,7,8]])\n",
    "print(b[0,:]) #prints a specific row\n",
    "print(b[:,2]) #prints a specific column\n",
    "print(b[1,:-1:2]) #startindex:endindex:step\n",
    "c=np.array([[[1,2],[3,4]],[[5,6],[7,8]]]) #3d array\n",
    "print(c[:,1,:]) \n",
    "print(c[:,0,:])\n",
    "print(c[0,1,:])"
   ]
  },
  {
   "cell_type": "code",
   "execution_count": null,
   "id": "bb42dc83-1437-4f84-a77e-3784a26d3946",
   "metadata": {},
   "outputs": [],
   "source": []
  }
 ],
 "metadata": {
  "kernelspec": {
   "display_name": "Python 3 (ipykernel)",
   "language": "python",
   "name": "python3"
  },
  "language_info": {
   "codemirror_mode": {
    "name": "ipython",
    "version": 3
   },
   "file_extension": ".py",
   "mimetype": "text/x-python",
   "name": "python",
   "nbconvert_exporter": "python",
   "pygments_lexer": "ipython3",
   "version": "3.9.6"
  }
 },
 "nbformat": 4,
 "nbformat_minor": 5
}
